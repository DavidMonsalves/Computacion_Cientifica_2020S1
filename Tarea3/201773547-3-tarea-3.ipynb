{
 "cells": [
  {
   "cell_type": "code",
   "execution_count": 3,
   "metadata": {},
   "outputs": [],
   "source": [
    "import numpy as np\n",
    "import sympy as sp\n",
    "from PIL import Image\n",
    "from scipy import interpolate\n",
    "import matplotlib.pyplot as plt\n",
    "from sympy.abc import x,y"
   ]
  },
  {
   "cell_type": "markdown",
   "metadata": {},
   "source": [
    "# Tarea 3:Interpolación Bicúbica"
   ]
  },
  {
   "cell_type": "markdown",
   "metadata": {},
   "source": [
    "## Instrucciones\n",
    "\n",
    "* La tarea es individual.\n",
    "* Las consultas sobre las tareas se deben realizar por medio de la plataforma Aula.\n",
    "* La tarea debe ser realizada en `Jupyter Notebook` (`Python3`).\n",
    "* Se evaluará la correcta utilización de librerias `NumPy`, `SciPy`, entre otras, así como la correcta implementación de algoritmos de forma vectorizada.\n",
    "*  **El archivo de entrega debe denominarse ROL-tarea-numero.ipynb**. _De no respetarse este formato existirá un descuento de **50 puntos**_\n",
    "* La fecha de entrega es el viernes 24 de Julio a las **18:00 hrs**.  Se aceptarán entregas hasta las 19:00 hrs sin descuento en caso de existir algun problema, posteriormente existirá un descuento lineal hasta las 20:00 hrs del mismo día.\n",
    "* Las tareas que sean entregadas antes del jueves a mediodía recibirán una bonificación de 10 puntos\n",
    "* Debe citar cualquier código ajeno utilizado (incluso si proviene de los Jupyter Notebooks del curso).\n"
   ]
  },
  {
   "cell_type": "markdown",
   "metadata": {},
   "source": [
    "## Introducción"
   ]
  },
  {
   "cell_type": "markdown",
   "metadata": {},
   "source": [
    "En la siguiente tarea estudiaremos un método de interpolación denominado **Interpolación Bicúbica**, utilizada frecuentemente sobre imágenes. Aplicaremos el método para aumentar la resolución de una imagen intentando preservar las propiedades de la versión original."
   ]
  },
  {
   "cell_type": "markdown",
   "metadata": {},
   "source": [
    "## Contexto"
   ]
  },
  {
   "cell_type": "markdown",
   "metadata": {},
   "source": [
    "Supongamos que usted conoce $f$ y las derivadas $f_x$, $f_y$ y $f_{xy}$ dentro de las coordenadas $(0,0),(0,1),(1,0)$ y $(1,1)$ de un cuadrado unitario. La superficie que interpola estos 4 puntos es:\n",
    "\n",
    "$$\n",
    "p(x,y) = \\sum\\limits_{i=0}^3 \\sum_{j=0}^3 a_{ij} x^i y^j.\n",
    "$$\n",
    "\n",
    "Como se puede observar el problema de interpolación se resume en determinar los 16 coeficientes $a_{ij}$ y para esto se genera un total de $16$ ecuaciones utilizando los valores conocidos de $f$,$f_x$,$f_y$ y $f_{xy}$. Por ejemplo, las primeras $4$ ecuaciones son:\n",
    "\n",
    "$$\n",
    "\\begin{aligned}\n",
    "f(0,0)&=p(0,0)=a_{00},\\\\\n",
    "f(1,0)&=p(1,0)=a_{00}+a_{10}+a_{20}+a_{30},\\\\\n",
    "f(0,1)&=p(0,1)=a_{00}+a_{01}+a_{02}+a_{03},\\\\\n",
    "f(1,1)&=p(1,1)=\\textstyle \\sum \\limits _{i=0}^{3}\\sum \\limits _{j=0}^{3}a_{ij}.\n",
    "\\end{aligned}\n",
    "$$\n",
    "\n",
    "Para las $12$ ecuaciones restantes se debe utilizar:\n",
    "\n",
    "$$\n",
    "\\begin{aligned}\n",
    "f_{x}(x,y)&=p_{x}(x,y)=\\textstyle \\sum \\limits _{i=1}^{3}\\sum \\limits _{j=0}^{3}a_{ij}ix^{i-1}y^{j},\\\\\n",
    "f_{y}(x,y)&=p_{y}(x,y)=\\textstyle \\sum \\limits _{i=0}^{3}\\sum \\limits _{j=1}^{3}a_{ij}x^{i}jy^{j-1},\\\\\n",
    "f_{xy}(x,y)&=p_{xy}(x,y)=\\textstyle \\sum \\limits _{i=1}^{3}\\sum \\limits _{j=1}^{3}a_{ij}ix^{i-1}jy^{j-1}.\n",
    "\\end{aligned}\n",
    "$$\n",
    "\n",
    "\n",
    "Una vez planteadas las ecuaciones, los coeficientes se pueden obtener al resolver el problema $A\\alpha=x$, donde $\\alpha=\\left[\\begin{smallmatrix}a_{00}&a_{10}&a_{20}&a_{30}&a_{01}&a_{11}&a_{21}&a_{31}&a_{02}&a_{12}&a_{22}&a_{32}&a_{03}&a_{13}&a_{23}&a_{33}\\end{smallmatrix}\\right]^T$ y ${\\displaystyle x=\\left[{\\begin{smallmatrix}f(0,0)&f(1,0)&f(0,1)&f(1,1)&f_{x}(0,0)&f_{x}(1,0)&f_{x}(0,1)&f_{x}(1,1)&f_{y}(0,0)&f_{y}(1,0)&f_{y}(0,1)&f_{y}(1,1)&f_{xy}(0,0)&f_{xy}(1,0)&f_{xy}(0,1)&f_{xy}(1,1)\\end{smallmatrix}}\\right]^{T}}$.\n"
   ]
  },
  {
   "cell_type": "markdown",
   "metadata": {},
   "source": [
    "En un contexto más aplicado, podemos hacer uso de la interpolación bicúbica para aumentar la resolución de una imagen. Supongamos que tenemos la siguiente imagen de tamaño $5 \\times 5$:"
   ]
  },
  {
   "cell_type": "markdown",
   "metadata": {},
   "source": [
    "<img src=\"img1.png\" width=\"20%\"/>"
   ]
  },
  {
   "cell_type": "markdown",
   "metadata": {},
   "source": [
    "Podemos ir tomando segmentos de la imagen de tamaño $2 \\times 2$ de la siguiente forma:"
   ]
  },
  {
   "cell_type": "markdown",
   "metadata": {},
   "source": [
    "<img src=\"img2.png\" width=\"50%\"/>"
   ]
  },
  {
   "cell_type": "markdown",
   "metadata": {},
   "source": [
    "Por cada segmento podemos generar una superficie interpoladora mediante el algoritmo de interpolación cubica. Para el ejemplo anterior estariamos generando $16$ superficies interpoladoras distintas. La idea es hacer uso de estas superficies para estimar los valores de los pixeles correspondienets a una imagen más grande. Por ejemplo, la imagen $5 \\times 5$ la podemos convertir a una imagen de $9 \\times 9$ agregando un pixel entre cada par de pixeles originales además de uno en el centro para que no quede un hueco."
   ]
  },
  {
   "cell_type": "markdown",
   "metadata": {},
   "source": [
    "<img src=\"img3.png\" width=\"50%\"/>"
   ]
  },
  {
   "cell_type": "markdown",
   "metadata": {},
   "source": [
    "Aca los pixeles verdes son los mismos que la imagen original y los azules son obtenidos de evaluar cada superficie interpoladora. Notar que existen pixeles azules que se pueden obtener a partir de dos superficies interpoladoras distintas, en esos casos se puede promediar el valor de los pixeles o simplemente dejar uno de los dos. \n",
    "\n",
    "Para trabajar con la interpolación bicubica necesitamos conocer los valores de $f_x$, $f_y$ y $f_{xy}$. En el caso de las imagenes solo tenemos acceso al valor de cada pixel por lo que deberemos estimar cual es el valor de estos. Para estimar $f_x$ haremos lo siguiente:"
   ]
  },
  {
   "cell_type": "markdown",
   "metadata": {},
   "source": [
    "Para estimar el valor de $f_x$ en cada pixel haremos una interpolación con los algoritmos conocidos, usando tres pixels en dirección de las filas, luego derivaremos el polinomio obtenido y finalmente evaluaremos en la posición de interes. La misma idea aplica para $f_y$ solo que ahora interpolaremos en dirección de las columnas."
   ]
  },
  {
   "cell_type": "markdown",
   "metadata": {},
   "source": [
    "<img src=\"img5.png\" width=\"60%\"/>"
   ]
  },
  {
   "cell_type": "markdown",
   "metadata": {},
   "source": [
    "Por ejemplo si queremos obtener el valor de $f_x$ en la posición $(0,0)$ (imagen de la izquierda) entonces haremos una interpolación de Lagrange utilizando los pixeles $(0,0),(0,1)$ y $(0,2)$. Derivaremos el polinomio interpolador y evaluaremos en $(0,0)$. Por otro lado si queremos obtener el valor de $f_y$ en la posición $(0,0)$ (imagen de la derecha) entonces interpolaremos los pixeles $(0,0),(1,0)$ y $(2,0)$. Luego derivaremos el polinomio interpolador y evaluaremos en $(0,0)$."
   ]
  },
  {
   "cell_type": "markdown",
   "metadata": {},
   "source": [
    "Para obtener $f_{xy}$ seguiremos la idea anterior. Solo que esta vez se utilizaran los valores de $f_y$ y se interpolaran estos en dirección de las filas."
   ]
  },
  {
   "cell_type": "markdown",
   "metadata": {},
   "source": [
    "# Preguntas"
   ]
  },
  {
   "cell_type": "code",
   "execution_count": 670,
   "metadata": {},
   "outputs": [
    {
     "data": {
      "image/png": "[encoded data removed]",
      "text/plain": [
       "<Figure size 432x288 with 1 Axes>"
      ]
     },
     "metadata": {
      "needs_background": "light"
     },
     "output_type": "display_data"
    }
   ],
   "source": [
    "#Codigo para abrir y visualizar imágenes\n",
    "img = Image.open('trifue.jpg')\n",
    "array=np.array(img)\n",
    "imgplot = plt.imshow(array)\n",
    "plt.show()"
   ]
  },
  {
   "cell_type": "markdown",
   "metadata": {},
   "source": [
    "## 1. Interpolación bicubica"
   ]
  },
  {
   "cell_type": "markdown",
   "metadata": {},
   "source": [
    "### 1.1  Obtener derivadas (30 puntos)\n",
    "\n",
    "Implemente la función `derivativeValues` que reciba como input un arreglo con valores, el método de interpolación y si es que se considera el uso de  los puntos de chebyshev . La función debe retornar un arreglo de igual dimensión con los valores de las derivadas de los puntos obtenidas\n",
    "\n",
    "Los métodos de interpolación serán representados por los siguientes valores\n",
    "\n",
    "* Interpolación de lagrange: `'lagrange'`\n",
    "* Diferencias divididas de Newton: `'newton'`\n",
    "* Spline cubica: `'spline3'`\n"
   ]
  },
  {
   "cell_type": "code",
   "execution_count": 694,
   "metadata": {},
   "outputs": [],
   "source": [
    "'''Función que separa una imagen en matrices con sus respectivos canales'''\n",
    "def separar_por_canal(img_array):\n",
    "    n = img_array.shape[0]\n",
    "    R = np.zeros((n,n))\n",
    "    G = np.zeros((n,n))\n",
    "    B = np.zeros((n,n))\n",
    "    for i in range(n):\n",
    "        for j in range(n):\n",
    "            R[i,j] = img_array[i][j][0]\n",
    "            G[i,j] = img_array[i][j][1]\n",
    "            B[i,j] = img_array[i][j][2]\n",
    "    return R,G,B"
   ]
  },
  {
   "cell_type": "code",
   "execution_count": 695,
   "metadata": {},
   "outputs": [],
   "source": [
    "'''Funcion que entrega puntos de chebyshev según rango'''\n",
    "def chebyshevNodes(n,a,b):\n",
    "    i = np.arange(1, n+1)\n",
    "    t = (2*i - 1) * np.pi / (2 * n)\n",
    "    return ((b+a)/2 + (b - a)/2 * np.cos(t))"
   ]
  },
  {
   "cell_type": "code",
   "execution_count": 567,
   "metadata": {},
   "outputs": [],
   "source": [
    "def derivativeValues(values, method, cheb):\n",
    "    \"\"\"\n",
    "    Parameters\n",
    "    ----------\n",
    "    values:\t(int array) points values\n",
    "    method:\t(string)\tinterpolation method\n",
    "    cheb:\t(boolean)\tif chebyshev points are used\n",
    "\n",
    "    Returns\n",
    "    -------\n",
    "    d:\t(float array) derivative value of interpolated points\n",
    "\n",
    "    \"\"\"\n",
    "    d = np.zeros(values.shape[-1])\n",
    "    n = values.shape[-1]\n",
    "    if method == 'lagrange':\n",
    "        for indice in range(n):\n",
    "            x_values = np.arange(3)\n",
    "            if indice == n - 2:\n",
    "                y_values = np.array([values[indice - 1], values[indice], values[indice + 1]])\n",
    "            elif indice == n - 1:\n",
    "                y_values = np.array([values[indice - 2], values[indice - 1], values[indice]])\n",
    "            else:\n",
    "                y_values = np.array([values[indice], values[indice + 1], values[indice + 2]])\n",
    "            m = x_values.shape[-1]\n",
    "            L = lambda x: np.dot(y_values, np.array([np.prod(x - np.delete(x_values, k)) \n",
    "                                    / np.prod(x_values[k] - np.delete(x_values, k)) for k in range(m)]))\n",
    "            Pl = np.vectorize(L)\n",
    "            dl = sp.Poly(L(x),x).diff()\n",
    "            Pdl = np.vectorize(dl)\n",
    "            x_e = np.linspace(np.amin(x_values),np.amax(x_values),100)\n",
    "            if cheb:\n",
    "                x_values = chebyshevNodes(3,-1,1)\n",
    "                np.flip(x_values)\n",
    "            if indice == n - 2:\n",
    "                 d[indice] = Pdl(x_values[1])\n",
    "            elif indice == n - 1:\n",
    "                 d[indice] = Pdl(x_values[2])\n",
    "            else:\n",
    "                d[indice] = Pdl(x_values[0])\n",
    "    if method == 'newton' :\n",
    "        for indice in range(n):\n",
    "            x_values = np.arange(3)\n",
    "            m = x_values.shape[-1]\n",
    "            if indice == n - 2:\n",
    "                y_values = np.array([values[indice - 1], values[indice], values[indice + 1]])\n",
    "            elif indice == n - 1:\n",
    "                y_values = np.array([values[indice - 2], values[indice - 1], values[indice]])\n",
    "            else:\n",
    "                y_values = np.array([values[indice], values[indice + 1], values[indice + 2]])\n",
    "            pyramid = np.zeros((m, m)) # Create a square matrix to hold pyramid\n",
    "            pyramid[:,0] = y_values # first column is y\n",
    "            for j in range(1,m):\n",
    "                for i in range(m-j):\n",
    "                    # create pyramid by updating other columns\n",
    "                    pyramid[i][j] = (pyramid[i+1][j-1] - pyramid[i][j-1]) / (x_values[i+j] - x_values[i])\n",
    "            a = pyramid[0] # f[ ... ] coefficients\n",
    "            N = lambda x: a[0] + np.dot(a[1:], np.array([np.prod(x - x_values[:i]) for i in range(1, m)]))\n",
    "            Pn = np.vectorize(N)\n",
    "            dn = sp.Poly(N(x),x).diff()\n",
    "            Pdn = np.vectorize(dn)\n",
    "            if cheb:\n",
    "                x_values = chebyshevNodes(3,-1,1)\n",
    "                np.flip(x_values)\n",
    "            if indice == n - 2:\n",
    "                 d[indice] = Pdn(x_values[1])\n",
    "            elif indice == n - 1:\n",
    "                 d[indice] = Pdn(x_values[2])\n",
    "            else:\n",
    "                d[indice] = Pdn(x_values[0])\n",
    "    if method == 'spline3' :\n",
    "        for indice in range(n):\n",
    "            x_values = np.arange(3)\n",
    "            m = x_values.shape[-1]\n",
    "            if indice == n - 2:\n",
    "                y_values = np.array([values[indice - 1], values[indice], values[indice + 1]])\n",
    "            elif indice == n - 1:\n",
    "                y_values = np.array([values[indice - 2], values[indice - 1], values[indice]])\n",
    "            else:\n",
    "                y_values = np.array([values[indice], values[indice + 1], values[indice + 2]])\n",
    "            Pcs = interpolate.CubicSpline(x_values,y_values)\n",
    "            Pdcs = interpolate.PPoly.derivative(Pcs)\n",
    "            if cheb:\n",
    "                x_values = chebyshevNodes(3,-1,1)\n",
    "                np.flip(x_values)\n",
    "            if indice == n - 2:\n",
    "                 d[indice] = Pdcs(x_values[1])\n",
    "            elif indice == n - 1:\n",
    "                 d[indice] = Pdcs(x_values[2])\n",
    "            else:\n",
    "                d[indice] = Pdcs(x_values[0])\n",
    "    return d"
   ]
  },
  {
   "cell_type": "markdown",
   "metadata": {},
   "source": [
    "\n",
    "### 1.2 Interpolación de imagen (50 puntos)\n",
    "Implemente la función `bicubicInterpolation` que reciba como input la matriz de la imagen y cuantos píxeles extra se quiere agregar entre los píxeles originales y el algoritmo de interpolación a utilizar. La función debe retornar la matriz con la imagen de dimensión nueva. Considere que se debe aplicar el método de interpolación en cada canal RGB por separado."
   ]
  },
  {
   "cell_type": "code",
   "execution_count": 696,
   "metadata": {},
   "outputs": [],
   "source": [
    "'''Funcion que crea la matriz A para resolver el sistema de ecuacion lineal'''\n",
    "def crear_matriz_A():\n",
    "    n = 16\n",
    "    A = np.zeros((n,n))\n",
    "    '''Llenar f '''\n",
    "    A[0,0] = 1\n",
    "    A[1,:4] = 1\n",
    "    A[2,0] = A[2,4] = A[2,8] = A[2,12] = 1\n",
    "    A[3,:] = 1\n",
    "    '''Llenar fx '''\n",
    "    A[4,1] = 1\n",
    "    A[5,1] = 1\n",
    "    A[5,2] = 2\n",
    "    A[5,3] = 3\n",
    "    A[6,1] = A[6,5] = A[6,9] = A[6,13] = 1\n",
    "    A[7,1] = A[7,5] = A[7,9] = A[7,13] = 1\n",
    "    A[7,2] = A[7,6] = A[7,10] = A[7,14] = 2\n",
    "    A[7,3] = A[7,7] = A[7,11] = A[7,15] = 3\n",
    "    '''Llenar fy '''\n",
    "    A[8,4] = 1\n",
    "    A[9,4:8] = 1\n",
    "    A[10,4] = 1\n",
    "    A[10,8] = 2\n",
    "    A[10,12] = 3\n",
    "    A[11,4:8] = 1\n",
    "    A[11,8:12] = 2\n",
    "    A[11,12:16] = 3\n",
    "    '''Llenar fxy '''\n",
    "    A[12,5] = 1\n",
    "    A[13,5] = 1\n",
    "    A[13,6] = 2\n",
    "    A[13,7] = 3\n",
    "    A[14,5] = 1\n",
    "    A[14,9] = 2\n",
    "    A[14,13] = 3\n",
    "    A[15,5] = 1\n",
    "    A[15,6] = A[15,9] = 2\n",
    "    A[15,7] = A[15,13] = 3\n",
    "    A[15,10] = 4\n",
    "    A[15,11] = A[15,14] = 6\n",
    "    A[15,15] = 9\n",
    "    return A"
   ]
  },
  {
   "cell_type": "code",
   "execution_count": 654,
   "metadata": {},
   "outputs": [],
   "source": [
    "def bicubicInterpolation(image, interiorPixels, method,cheb):\n",
    "    \"\"\"\n",
    "    Parameters\n",
    "    ----------\n",
    "    image:\t(nxnx3 array) image array in RGB format\n",
    "    interiorPixels:\t(int)\tinterpolation method\n",
    "    method:\t(string)\tinterpolation method\n",
    "    cheb:\t(boolean)\tif chebyshev points are used\n",
    "\n",
    "\n",
    "    Returns\n",
    "    -------\n",
    "    newImage:\t(nxnx3 array) image array in RGB format\n",
    "\n",
    "    \"\"\"\n",
    "    A = crear_matriz_A()\n",
    "    n = image.shape[0]\n",
    "    R,G,B = separar_por_canal(image)\n",
    "    n_nueva_imagen = (n - 1) * interiorPixels + n\n",
    "    nuevo_R = np.zeros((n_nueva_imagen, n_nueva_imagen))\n",
    "    nuevo_G = np.zeros((n_nueva_imagen, n_nueva_imagen))\n",
    "    nuevo_B = np.zeros((n_nueva_imagen, n_nueva_imagen))\n",
    "    Rx = np.zeros((n,n))\n",
    "    Ry = np.zeros((n,n))\n",
    "    Rxy = np.zeros((n,n))\n",
    "    Gx = np.zeros((n,n))\n",
    "    Gy = np.zeros((n,n))\n",
    "    Gxy = np.zeros((n,n))\n",
    "    Bx = np.zeros((n,n))\n",
    "    By = np.zeros((n,n))\n",
    "    Bxy = np.zeros((n,n))\n",
    "    for i in range(n):\n",
    "        R_aux_x = R[i,:]\n",
    "        R_aux_y = R[:,i]\n",
    "        G_aux_x = G[i,:]\n",
    "        G_aux_y = G[:,i]\n",
    "        B_aux_x = B[i,:]\n",
    "        B_aux_y = B[:,i]\n",
    "        Rdx = derivativeValues(R_aux_x,method,cheb)\n",
    "        Rdy = derivativeValues(R_aux_y,method,cheb)\n",
    "        Gdx = derivativeValues(G_aux_x,method,cheb)\n",
    "        Gdy = derivativeValues(G_aux_y,method,cheb)\n",
    "        Bdx = derivativeValues(B_aux_x,method,cheb)\n",
    "        Bdy = derivativeValues(B_aux_y,method,cheb)\n",
    "        Rx[i,:] = Rdx\n",
    "        Ry[:,i] = Rdy\n",
    "        Gx[i,:] = Gdx\n",
    "        Gy[:,i] = Gdy\n",
    "        Bx[i,:] = Bdx\n",
    "        By[:,i] = Bdy\n",
    "    for i in range(n):\n",
    "        R_aux_x = Ry[i,:]\n",
    "        G_aux_x = Gy[i,:]\n",
    "        B_aux_x = By[i,:]\n",
    "        Rdxy = derivativeValues(R_aux_x,method,cheb)\n",
    "        Gdxy = derivativeValues(G_aux_x,method,cheb)\n",
    "        Bdxy = derivativeValues(B_aux_x,method,cheb)\n",
    "        Rxy[i,:] = Rdxy\n",
    "        Gxy[i,:] = Gdxy\n",
    "        Bxy[i,:] = Bdxy\n",
    "    cont  = 0\n",
    "    veces = 0\n",
    "    q = 0\n",
    "    w = 0\n",
    "    r = 0\n",
    "    e = 0\n",
    "    flag = False\n",
    "    for i in range(n - 1):\n",
    "        for j in range(n - 1):\n",
    "                '''CANAL R'''\n",
    "                R_y_segmento = np.array([R[i,j],R[i,j + 1],R[i + 1,j],R[i + 1,j + 1]])\n",
    "                R_y_segmento_dx = np.array([Rx[i,j],Rx[i,j + 1],Rx[i + 1,j],Rx[i + 1,j + 1]])\n",
    "                R_y_segmento_dy = np.array([Ry[i,j],Ry[i,j + 1],Ry[i + 1,j],Ry[i + 1,j + 1]])\n",
    "                R_y_segmento_dxy = np.array([Rxy[i,j],Rxy[i,j + 1],Rxy[i + 1,j],Rxy[i + 1,j + 1]])\n",
    "                x_R = np.zeros(16)\n",
    "                x_R[0] = R_y_segmento[0]\n",
    "                x_R[1] = R_y_segmento[2]\n",
    "                x_R[2] = R_y_segmento[1]\n",
    "                x_R[3] = R_y_segmento[3]\n",
    "                x_R[4] = R_y_segmento_dx[0]\n",
    "                x_R[5] = R_y_segmento_dx[2]\n",
    "                x_R[6] = R_y_segmento_dx[1]\n",
    "                x_R[7] = R_y_segmento_dx[3]\n",
    "                x_R[8] = R_y_segmento_dy[0]\n",
    "                x_R[9] = R_y_segmento_dy[2]\n",
    "                x_R[10] = R_y_segmento_dy[1]\n",
    "                x_R[11] = R_y_segmento_dy[3]\n",
    "                x_R[12] = R_y_segmento_dxy[0]\n",
    "                x_R[13] = R_y_segmento_dxy[2]\n",
    "                x_R[14] = R_y_segmento_dxy[1]\n",
    "                x_R[15] = R_y_segmento_dxy[3]\n",
    "                alfa_R = np.linalg.solve(A,x_R.T)\n",
    "                f_R = lambda x,y: (alfa_R[0] + alfa_R[4] * y + alfa_R[8] * y**2 + alfa_R[12] * y**3\n",
    "                    + alfa_R[1] * x + alfa_R[5] * x * y + alfa_R[9] * x * y**2 + alfa_R[13] * x * y**3\n",
    "                    + alfa_R[2] * x**2 + alfa_R[6] * x**2 * y + alfa_R[10] * x**2 * y**2 + alfa_R[14] * x**2 * y**3\n",
    "                    + alfa_R[3] * x**3 + alfa_R[7] * x**3 * y + alfa_R[11] * x**3 * y**2 + alfa_R[15] * x**3 * y**3)\n",
    "                G_y_segmento = np.array([G[i,j],G[i,j + 1],G[i + 1,j],G[i + 1,j + 1]])\n",
    "                G_y_segmento_dx = np.array([Gx[i,j],Gx[i,j + 1],Gx[i + 1,j],Gx[i + 1,j + 1]])\n",
    "                G_y_segmento_dy = np.array([Gy[i,j],Gy[i,j + 1],Gy[i + 1,j],Gy[i + 1,j + 1]])\n",
    "                G_y_segmento_dxy = np.array([Gxy[i,j],Gxy[i,j + 1],Gxy[i + 1,j],Gxy[i + 1,j + 1]])\n",
    "                x_G = np.zeros(16)\n",
    "                x_G[0] = G_y_segmento[0]\n",
    "                x_G[1] = G_y_segmento[2]\n",
    "                x_G[2] = G_y_segmento[1]\n",
    "                x_G[3] = G_y_segmento[3]\n",
    "                x_G[4] = G_y_segmento_dx[0]\n",
    "                x_G[5] = G_y_segmento_dx[2]\n",
    "                x_G[6] = G_y_segmento_dx[1]\n",
    "                x_G[7] = G_y_segmento_dx[3]\n",
    "                x_G[8] = G_y_segmento_dy[0]\n",
    "                x_G[9] = G_y_segmento_dy[2]\n",
    "                x_G[10] = G_y_segmento_dy[1]\n",
    "                x_G[11] = G_y_segmento_dy[3]\n",
    "                x_G[12] = G_y_segmento_dxy[0]\n",
    "                x_G[13] = G_y_segmento_dxy[2]\n",
    "                x_G[14] = G_y_segmento_dxy[1]\n",
    "                x_G[15] = G_y_segmento_dxy[3]\n",
    "                alfa_G = np.linalg.solve(A,x_G.T)\n",
    "                f_G = lambda x,y: (alfa_G[0] + alfa_G[4] * y + alfa_G[8] * y**2 + alfa_G[12] * y**3\n",
    "                + alfa_G[1] * x + alfa_G[5] * x * y + alfa_G[9] * x * y**2 + alfa_G[13] * x * y**3\n",
    "                + alfa_G[2] * x**2 + alfa_G[6] * x**2 * y + alfa_G[10] * x**2 * y**2 + alfa_G[14] * x**2 * y**3\n",
    "                + alfa_G[3] * x**3 + alfa_G[7] * x**3 * y + alfa_G[11] * x**3 * y**2 + alfa_G[15] * x**3 * y**3)\n",
    "                ''''CANAL B'''\n",
    "                B_y_segmento = np.array([B[i,j],B[i,j + 1],B[i + 1,j],B[i + 1,j + 1]])\n",
    "                B_y_segmento_dx = np.array([Bx[i,j],Bx[i,j + 1],Bx[i + 1,j],Bx[i + 1,j + 1]])\n",
    "                B_y_segmento_dy = np.array([By[i,j],By[i,j + 1],By[i + 1,j],By[i + 1,j + 1]])\n",
    "                B_y_segmento_dxy = np.array([Bxy[i,j],Bxy[i,j + 1],Bxy[i + 1,j],Bxy[i + 1,j + 1]])\n",
    "                x_B = np.zeros(16)\n",
    "                x_B[0] = B_y_segmento[0]\n",
    "                x_B[1] = B_y_segmento[2]\n",
    "                x_B[2] = B_y_segmento[1]\n",
    "                x_B[3] = B_y_segmento[3]\n",
    "                x_B[4] = B_y_segmento_dx[0]\n",
    "                x_B[5] = B_y_segmento_dx[2]\n",
    "                x_B[6] = B_y_segmento_dx[1]\n",
    "                x_B[7] = B_y_segmento_dx[3]\n",
    "                x_B[8] = B_y_segmento_dy[0]\n",
    "                x_B[9] = B_y_segmento_dy[2]\n",
    "                x_B[10] = B_y_segmento_dy[1]\n",
    "                x_B[11] = B_y_segmento_dy[3]\n",
    "                x_B[12] = B_y_segmento_dxy[0]\n",
    "                x_B[13] = B_y_segmento_dxy[2]\n",
    "                x_B[14] = B_y_segmento_dxy[1]\n",
    "                x_B[15] = B_y_segmento_dxy[3]\n",
    "                alfa_B = np.linalg.solve(A,x_B.T)\n",
    "                f_B = lambda x,y: (alfa_B[0] + alfa_B[4] * y + alfa_B[8] * y**2 + alfa_B[12] * y**3\n",
    "                + alfa_B[1] * x + alfa_B[5] * x * y + alfa_B[9] * x * y**2 + alfa_B[13] * x * y**3\n",
    "                + alfa_B[2] * x**2 + alfa_B[6] * x**2 * y + alfa_B[10] * x**2 * y**2 + alfa_B[14] * x**2 * y**3\n",
    "                + alfa_B[3] * x**3 + alfa_B[7] * x**3 * y + alfa_B[11] * x**3 * y**2 + alfa_B[15] * x**3 * y**3)\n",
    "                '''Matrices pequenias para cada canal'''\n",
    "                dim_nuevo_segmento = 2 + interiorPixels\n",
    "                nuevo_segmento_R = np.zeros((dim_nuevo_segmento,dim_nuevo_segmento))\n",
    "                nuevo_segmento_G = np.zeros((dim_nuevo_segmento,dim_nuevo_segmento))\n",
    "                nuevo_segmento_B = np.zeros((dim_nuevo_segmento,dim_nuevo_segmento))\n",
    "                numeros_interpolar = np.linspace(0,1,dim_nuevo_segmento)\n",
    "                for t in range(dim_nuevo_segmento):\n",
    "                    for u in range(dim_nuevo_segmento):\n",
    "                        vr = f_R(numeros_interpolar[t], numeros_interpolar[u])\n",
    "                        vg = f_G(numeros_interpolar[t], numeros_interpolar[u])\n",
    "                        vb = f_B(numeros_interpolar[t], numeros_interpolar[u])\n",
    "                        if(vr < 0):\n",
    "                            vr = 0\n",
    "                        if(vr > 255):\n",
    "                            vr = 255\n",
    "                        if(vg < 0):\n",
    "                            vg = 0\n",
    "                        if(vg > 255):\n",
    "                            vg = 255\n",
    "                        if(vb < 0):\n",
    "                            vb = 0\n",
    "                        if(vr > 255):\n",
    "                            vb = 255\n",
    "                        nuevo_segmento_R[t,u] = vr\n",
    "                        nuevo_segmento_G[t,u] = vg\n",
    "                        nuevo_segmento_B[t,u] = vb\n",
    "                #print(nuevo_segmento)\n",
    "                if(w == 0):\n",
    "                    w = dim_nuevo_segmento\n",
    "                if (r -(dim_nuevo_segmento - 1) == n_nueva_imagen):\n",
    "                    r = 0\n",
    "                    w += dim_nuevo_segmento - 1\n",
    "                if (r == 0):\n",
    "                    r = dim_nuevo_segmento\n",
    "                q = w - dim_nuevo_segmento\n",
    "                e = r - dim_nuevo_segmento\n",
    "                nuevo_R[q:w,e:r] = nuevo_segmento_R\n",
    "                nuevo_G[q:w,e:r] = nuevo_segmento_G\n",
    "                nuevo_B[q:w,e:r] = nuevo_segmento_B\n",
    "                r += (dim_nuevo_segmento - 1)\n",
    "    n = R.shape[-1]\n",
    "    newImage = np.zeros((n_nueva_imagen,n_nueva_imagen,3))\n",
    "    newImage[:,:,0] = nuevo_R\n",
    "    newImage[:,:,1] = nuevo_G\n",
    "    newImage[:,:,2] = nuevo_B\n",
    "    return newImage.astype(np.int64)"
   ]
  },
  {
   "cell_type": "markdown",
   "metadata": {},
   "source": [
    "## 2. Evaluacion de algoritmos\n",
    "\n"
   ]
  },
  {
   "cell_type": "markdown",
   "metadata": {},
   "source": [
    "### 2.1 Tiempo de ejecucion \n",
    "Implemente la funcion `timeInterpolation` que mida el tiempo de interpolacion de una imagen dado el algoritmo de interpolacion , en segundos.(5 puntos)"
   ]
  },
  {
   "cell_type": "code",
   "execution_count": 451,
   "metadata": {},
   "outputs": [],
   "source": [
    "from time import time"
   ]
  },
  {
   "cell_type": "code",
   "execution_count": 465,
   "metadata": {},
   "outputs": [],
   "source": [
    "def timeInterpolation(image, interiorPixels, method,cheb):\n",
    "    \"\"\"\n",
    "    Parameters\n",
    "    ----------\n",
    "    image:\t(nxnx3 array) image array in RGB format\n",
    "    interiorPixels:\t(int)\tinterpolation method\n",
    "    method:\t(string)\tinterpolation method\n",
    "    cheb:\t(boolean)\tif chebyshev points are used\n",
    "\n",
    "\n",
    "    Returns\n",
    "    -------\n",
    "    time:\t(float) time in seconds\n",
    "\n",
    "    \"\"\"\n",
    "    start_time = time()\n",
    "    newImage = bicubicInterpolation(image, interiorPixels, method, cheb)\n",
    "    elapsed_time = time() - start_time\n",
    "    return elapsed_time"
   ]
  },
  {
   "cell_type": "code",
   "execution_count": 655,
   "metadata": {},
   "outputs": [],
   "source": [
    "time_lagrange = timeInterpolation(array, 3, 'lagrange', False)"
   ]
  },
  {
   "cell_type": "code",
   "execution_count": 656,
   "metadata": {},
   "outputs": [],
   "source": [
    "time_newton = timeInterpolation(array,3,'newton', False)"
   ]
  },
  {
   "cell_type": "code",
   "execution_count": 657,
   "metadata": {},
   "outputs": [],
   "source": [
    "time_spline = timeInterpolation(array,3,'spline3',False)"
   ]
  },
  {
   "cell_type": "code",
   "execution_count": 660,
   "metadata": {},
   "outputs": [
    {
     "name": "stdout",
     "output_type": "stream",
     "text": [
      "tiempo lagrange:  89.42639660835266 segundos\n",
      "tiempo newton:  50.46520757675171 segundoa\n",
      "tiempo spline:  18.00582790374756 segundos\n"
     ]
    }
   ],
   "source": [
    "print(\"tiempo lagrange: \", time_lagrange, \"segundos\")\n",
    "print(\"tiempo newton: \", time_newton, \"segundoa\")\n",
    "print(\"tiempo spline: \", time_spline ,\"segundos\")"
   ]
  },
  {
   "cell_type": "markdown",
   "metadata": {},
   "source": [
    "***Pregunta: ¿Cual es el metodo que presenta mayor velocidad en general? (5 puntos)***"
   ]
  },
  {
   "cell_type": "markdown",
   "metadata": {},
   "source": [
    "## R:\n",
    "\n",
    "Con una imagen 50x50 con 3 pixeles interiores. El método que presenta mayor velocidad, es el método de **splines cúbicas**."
   ]
  },
  {
   "cell_type": "markdown",
   "metadata": {},
   "source": [
    "### 2.2 Calculo de error\n",
    "Implemente la funcion `errorInterpolation` la cual debe obtener el error de la imagen obtenida comparandola con una de referencia. El error debe ser calculado utilizando el indice SSIM (Structural similarity) (5 puntos)"
   ]
  },
  {
   "cell_type": "code",
   "execution_count": 661,
   "metadata": {},
   "outputs": [],
   "source": [
    "from skimage.metrics import structural_similarity\n",
    "from skimage.metrics import mean_squared_error\n"
   ]
  },
  {
   "cell_type": "code",
   "execution_count": 690,
   "metadata": {},
   "outputs": [],
   "source": [
    "def errorInterpolation(original,new):\n",
    "    \"\"\"\n",
    "    Parameters\n",
    "    ----------\n",
    "    image:\t(nxn array) original image array in RGB format\n",
    "    new:\t(nxn array) new image array in RGB format obtained from interpolation\n",
    "\n",
    "\n",
    "    Returns\n",
    "    -------\n",
    "    error:\t(float) difference between images \n",
    "\n",
    "    \"\"\"\n",
    "    ssim = structural_similarity(original, new, multichannel=True, data_range=new.max() - new.min())\n",
    "    error = 1 - ssim\n",
    "    return error"
   ]
  },
  {
   "cell_type": "markdown",
   "metadata": {},
   "source": [
    "# Imagen de referencia\n",
    "\n",
    "* Imagen redimensionada en : https://www.reducirfotos.com/\n",
    "* Reconvertida a formato JPG en: https://imagen.online-convert.com/es/convertir-a-jpg"
   ]
  },
  {
   "cell_type": "code",
   "execution_count": 678,
   "metadata": {},
   "outputs": [],
   "source": [
    "img = Image.open('trifue_grande.jpg')\n",
    "original = np.array(img)"
   ]
  },
  {
   "cell_type": "code",
   "execution_count": 691,
   "metadata": {},
   "outputs": [],
   "source": [
    "error_original = errorInterpolation(original,original)\n",
    "newImage_l = bicubicInterpolation(array,2,'lagrange',False)\n",
    "error_lagrange = errorInterpolation(original,newImage_l)\n",
    "newImage_n = bicubicInterpolation(array,2,'newton',False)\n",
    "error_newton = errorInterpolation(original,newImage_n)\n",
    "newImage_s = bicubicInterpolation(array,2,'spline3',False)\n",
    "error_spline = errorInterpolation(original,newImage_s)"
   ]
  },
  {
   "cell_type": "code",
   "execution_count": 693,
   "metadata": {},
   "outputs": [
    {
     "data": {
      "image/png": "[encoded data removed]",
      "text/plain": [
       "<Figure size 720x288 with 4 Axes>"
      ]
     },
     "metadata": {
      "needs_background": "light"
     },
     "output_type": "display_data"
    }
   ],
   "source": [
    "fig, axes = plt.subplots(nrows=1, ncols=4, figsize=(10, 4), sharex=True, sharey=True)\n",
    "ax = axes.ravel()\n",
    "label = 'ERROR: {:10f}'\n",
    "ax[0].imshow(original, cmap=plt.cm.gray, vmin=0, vmax=1)\n",
    "ax[0].set_xlabel(label.format(error_original))\n",
    "ax[0].set_title('Original image')\n",
    "\n",
    "ax[1].imshow(newImage_l, cmap=plt.cm.gray, vmin=0, vmax=1)\n",
    "ax[1].set_xlabel(label.format(error_lagrange))\n",
    "ax[1].set_title('Lagrange method')\n",
    "\n",
    "ax[2].imshow(newImage_n, cmap=plt.cm.gray, vmin=0, vmax=1)\n",
    "ax[2].set_xlabel(label.format(error_newton))\n",
    "ax[2].set_title('Newton method')\n",
    "\n",
    "ax[3].imshow(newImage_s, cmap=plt.cm.gray, vmin=0, vmax=1)\n",
    "ax[3].set_xlabel(label.format(error_spline))\n",
    "ax[3].set_title('Spline3 method')\n",
    "\n",
    "plt.tight_layout()\n",
    "plt.show()"
   ]
  },
  {
   "cell_type": "markdown",
   "metadata": {},
   "source": [
    "***Pregunta: ¿Cual metodo presenta menor error? (5 puntos)***"
   ]
  },
  {
   "cell_type": "markdown",
   "metadata": {},
   "source": [
    "# R:\n",
    "Según los resultados anteriores, lagrange y newton presentan los menores errores."
   ]
  },
  {
   "cell_type": "markdown",
   "metadata": {},
   "source": [
    "# Consideraciones"
   ]
  },
  {
   "cell_type": "markdown",
   "metadata": {},
   "source": [
    "* Solo trabajaremos con imagenes cuadradas\n",
    "* En el caso que el valor interpolado de un punto sea mayor a 255 o menor a 0, este se trunca a 255 o 0 respectivamente\n",
    "* Esta permitido el uso de sympy para calcular derivadas y para construir el polinomio interpolador \n",
    "* El calculo de error puede ser calculado utilizando la imagen en escala de grises [(ejemplo)](https://scikit-image.org/docs/dev/auto_examples/transform/plot_ssim.html)"
   ]
  },
  {
   "cell_type": "markdown",
   "metadata": {},
   "source": [
    "# Referencias"
   ]
  },
  {
   "cell_type": "markdown",
   "metadata": {},
   "source": [
    "* Método de Lagrange y Newton, Puntos de chebyshev: https://github.com/sct-utfsm/INF-285/blob/master/material/05_interpolacion_1D/interpolacion.ipynb\n",
    "* Cálculo de errores: https://scikit-image.org/docs/dev/auto_examples/transform/plot_ssim.html"
   ]
  }
 ],
 "metadata": {
  "kernelspec": {
   "display_name": "Python 3",
   "language": "python",
   "name": "python3"
  },
  "language_info": {
   "codemirror_mode": {
    "name": "ipython",
    "version": 3
   },
   "file_extension": ".py",
   "mimetype": "text/x-python",
   "name": "python",
   "nbconvert_exporter": "python",
   "pygments_lexer": "ipython3",
   "version": "3.8.4"
  }
 },
 "nbformat": 4,
 "nbformat_minor": 4
}
